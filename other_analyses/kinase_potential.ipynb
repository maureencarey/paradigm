{
 "cells": [
  {
   "cell_type": "code",
   "execution_count": 1,
   "metadata": {},
   "outputs": [
    {
     "data": {
      "text/plain": [
       "163"
      ]
     },
     "execution_count": 1,
     "metadata": {},
     "output_type": "execute_result"
    }
   ],
   "source": [
    "import cobra\n",
    "import pandas as pd\n",
    "import numpy as np\n",
    "import os\n",
    "import glob\n",
    "from cobra import Model, Reaction, Metabolite\n",
    "import subprocess\n",
    "\n",
    "path = \"/Users/maureencarey/local_documents/work/comparative_parasite_models/paradigm\"\n",
    "data_path = \"/Users/maureencarey/local_documents/work/comparative_parasite_models/paradigm/data\"\n",
    "\n",
    "os.chdir(data_path+'/diy7bm_output')\n",
    "model_dict = dict()\n",
    "skip = list()\n",
    "for filename in glob.glob(os.path.join(data_path+'/diy7bm_output', '*.json')):\n",
    "    key = filename.split('/')[len(filename.split('/'))-1]\n",
    "    key = key[:-5] # get rid of .json\n",
    "    if key.startswith('DIY7bm_'):\n",
    "        key = key[7:]\n",
    "        model_dict[key] = cobra.io.load_json_model(filename)\n",
    "    else:\n",
    "        skip.append(filename)\n",
    "len(model_dict.keys())"
   ]
  },
  {
   "cell_type": "code",
   "execution_count": null,
   "metadata": {},
   "outputs": [],
   "source": [
    "vivax v falciparum"
   ]
  },
  {
   "cell_type": "code",
   "execution_count": null,
   "metadata": {},
   "outputs": [],
   "source": [
    "met_change = dict()\n",
    "for species, model in model_dict.items():\n",
    "    print(species)\n",
    "    starting_mets= len(model.metabolites)\n",
    "    for met in model.metabolites:\n",
    "        if len(met.reactions) == 0:\n",
    "            print(met)\n",
    "            print(met.reactions)\n",
    "            met.remove_from_model() # NOT WORKING\n",
    "    model_dict[species] = model\n",
    "    met_change[species] = len(model.metabolites)-starting_mets"
   ]
  },
  {
   "cell_type": "code",
   "execution_count": null,
   "metadata": {},
   "outputs": [],
   "source": [
    "print(set([m.id[-2:] for m in model_dict['BmicrotiRI'].metabolites]))\n",
    "l = list()\n",
    "for r in model_dict['BmicrotiRI'].reactions:\n",
    "    for m in r.metabolites:\n",
    "        l.append(m.id[-2:])\n",
    "set(l)"
   ]
  },
  {
   "cell_type": "code",
   "execution_count": null,
   "metadata": {},
   "outputs": [],
   "source": [
    "phosphorylation_reactions = dict()\n",
    "for species, model in model_dict.items():\n",
    "    for met in model.metabolites:\n",
    "        if met.id == 'pi_c' or met.id == 'pi_m':\n",
    "            phosphorylation_reactions[species] = met.reactions\n",
    "            \n",
    "            \n",
    "columns = ['species','number','percentage']\n",
    "modifications = pd.DataFrame(index = model_dict.keys(), columns=columns)\n",
    "\n",
    "for species, rxn_list in phosphorylation_reactions.items():    \n",
    "    modifications.species.loc[species] = species\n",
    "    modifications.number.loc[species] = len(rxn_list)\n",
    "    modifications.percentage.loc[species] = len(rxn_list)/len(model_dict[species].reactions)\n",
    "modifications"
   ]
  },
  {
   "cell_type": "code",
   "execution_count": 2,
   "metadata": {},
   "outputs": [],
   "source": [
    "\n",
    "def met_ids_without_comp(model,gene_id):\n",
    "    \n",
    "    if isinstance(gene_id,str): m = gene_id\n",
    "    else: m = model.metabolites.get_by_id(gene_id).id\n",
    "    \n",
    "    if m.endswith('_c') or m.endswith('_e') or m.endswith('_f') or m.endswith('_g')\\\n",
    "    or m.endswith('_h') or m.endswith('_i') or m.endswith('_l') or m.endswith('_m')\\\n",
    "    or m.endswith('_n') or m.endswith('_p') or m.endswith('_r') or m.endswith('_s')\\\n",
    "    or m.endswith('_u') or m.endswith('_v') or m.endswith('_x'): id_withou_c = m[:-2]\n",
    "    elif m.endswith('_cx') or m.endswith('_um') or m.endswith('_im'): id_withou_c = m[:-3]\n",
    "    else: id_withou_c = ''\n",
    "    return(id_withou_c)"
   ]
  },
  {
   "cell_type": "code",
   "execution_count": null,
   "metadata": {},
   "outputs": [],
   "source": [
    "for r in reactions:\n",
    "    if r.id.startswith('PI3P') or r.id.startswith('PI4P')\n",
    "    # proposed targets for Pf and Crypto"
   ]
  },
  {
   "cell_type": "code",
   "execution_count": 3,
   "metadata": {},
   "outputs": [],
   "source": [
    "kinase_reactions = dict()\n",
    "for species, model in model_dict.items():\n",
    "    l = list()\n",
    "    for rxn in model.reactions:\n",
    "        if 'atp' in [met_ids_without_comp(model,x.id) for x in rxn.reactants]\\\n",
    "        and 'adp' in [met_ids_without_comp(model,x.id) for x in rxn.products]:\n",
    "            l.append(rxn.id)\n",
    "    kinase_reactions[species] = l\n"
   ]
  },
  {
   "cell_type": "code",
   "execution_count": 4,
   "metadata": {},
   "outputs": [
    {
     "name": "stderr",
     "output_type": "stream",
     "text": [
      "/Users/maureencarey/.virtualenvs/cobrapy/lib/python3.6/site-packages/pandas/core/indexing.py:194 \u001b[1;31mSettingWithCopyWarning\u001b[0m: \n",
      "A value is trying to be set on a copy of a slice from a DataFrame\n",
      "\n",
      "See the caveats in the documentation: http://pandas.pydata.org/pandas-docs/stable/indexing.html#indexing-view-versus-copy\n"
     ]
    }
   ],
   "source": [
    "\n",
    "columns = ['species','number','percentage']\n",
    "kinase_results = pd.DataFrame(index = kinase_reactions.keys(), columns=columns)\n",
    "\n",
    "for species, rxn_list in kinase_reactions.items():    \n",
    "    kinase_results.species.loc[species] = species\n",
    "    kinase_results.number.loc[species] = len(rxn_list)\n",
    "    kinase_results.percentage.loc[species] = len(rxn_list)/len(model_dict[species].reactions)\n",
    "\n",
    "kinase_results.to_csv('kinase_results.csv')"
   ]
  }
 ],
 "metadata": {
  "kernelspec": {
   "display_name": "Python 3",
   "language": "python",
   "name": "python3"
  },
  "language_info": {
   "codemirror_mode": {
    "name": "ipython",
    "version": 3
   },
   "file_extension": ".py",
   "mimetype": "text/x-python",
   "name": "python",
   "nbconvert_exporter": "python",
   "pygments_lexer": "ipython3",
   "version": "3.6.4"
  }
 },
 "nbformat": 4,
 "nbformat_minor": 2
}
