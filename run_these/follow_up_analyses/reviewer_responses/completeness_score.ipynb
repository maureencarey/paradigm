{
 "cells": [
  {
   "cell_type": "code",
   "execution_count": 1,
   "metadata": {},
   "outputs": [],
   "source": [
    "import cobra\n",
    "import os\n",
    "import glob\n",
    "import pandas as pd\n",
    "\n",
    "# Matplotlib defaults\n",
    "import matplotlib.pyplot as plt\n",
    "import matplotlib\n",
    "import matplotlib.ticker as mticker\n",
    "matplotlib.rcParams[\"savefig.dpi\"] = 300\n",
    "matplotlib.rcParams['figure.dpi'] = 300\n",
    "#Rivanna fonts should include sans-serif now, but this could still raise an error\n",
    "matplotlib.rcParams['font.sans-serif'] = \"Arial\"\n",
    "matplotlib.rcParams['font.family'] = \"sans-serif\"\n",
    "\n",
    "SMALLER_SIZE = 8\n",
    "SMALL_SIZE = 14\n",
    "MEDIUM_SIZE = 16\n",
    "BIGGER_SIZE = 16\n",
    "\n",
    "matplotlib.rc('font', size=SMALL_SIZE)          # controls default text sizes\n",
    "matplotlib.rc('axes', titlesize=MEDIUM_SIZE)     # fontsize of the axes title\n",
    "matplotlib.rc('axes', labelsize=SMALL_SIZE)    # fontsize of the x and y labels\n",
    "matplotlib.rc('xtick', labelsize=SMALL_SIZE)    # fontsize of the tick labels\n",
    "matplotlib.rc('ytick', labelsize=SMALL_SIZE)    # fontsize of the tick labels\n",
    "matplotlib.rc('legend', fontsize=SMALLER_SIZE)    # legend fontsize\n",
    "matplotlib.rc('figure', titlesize=BIGGER_SIZE)  # fontsize of the figure title"
   ]
  },
  {
   "cell_type": "code",
   "execution_count": 2,
   "metadata": {},
   "outputs": [],
   "source": [
    "model_dict_gf = dict()\n",
    "path = \"/home/mac9jc/paradigm/models/\"\n",
    "os.chdir(path)\n",
    "\n",
    "for filename in glob.glob(os.path.join(path, 'gf_*.xml')):\n",
    "    key = filename.split('/')[len(filename.split('/'))-1]\n",
    "    key = key[:-4]\n",
    "    key = key[3:]\n",
    "    if key.startswith('P'):\n",
    "        key = key #GOOD\n",
    "    else:\n",
    "        key = key[9:]\n",
    "        if key.startswith('P'):\n",
    "            if key.startswith('Pneu') or key.startswith('Pconfu'):\n",
    "                key = key\n",
    "            else: key = 'NA'\n",
    "        else: key = key\n",
    "    if key != 'NA':\n",
    "        model_dict_gf[key] = cobra.io.read_sbml_model(filename)\n",
    "        "
   ]
  },
  {
   "cell_type": "code",
   "execution_count": 3,
   "metadata": {},
   "outputs": [],
   "source": [
    "toxo_model = dict()\n",
    "plasmo_model = dict()\n",
    "crypto_model = dict()\n",
    "cryptodb = [\"Candersoni30847\",\"Chominis30976\",\"ChominisTU502\",\"ChominisTU502_2012\",\"ChominisUdeA01\",\"CmeleagridisUKMEL1\",\"CmurisRN66\",\"CparvumIowaII\",\"CtyzzeriUGA55\", \"Cubiquitum39726\",\"CveliaCCMP2878\", \"GniphandrodesUnknown\", \"VbrassicaformisCCMP3155\"]\n",
    "\n",
    "for species, model in model_dict_gf.items():\n",
    "    if species.startswith('Tgondi'):\n",
    "        toxo_model[species] = model\n",
    "    elif species.startswith('P'):\n",
    "        if ~species.startswith('Pneu') and ~species.startswith('Pconfu'):\n",
    "            plasmo_model[species] = model\n",
    "    elif species in cryptodb and species.startswith('C'):\n",
    "        crypto_model[species] = model\n",
    "del crypto_model['CveliaCCMP2878']\n",
    "    "
   ]
  },
  {
   "cell_type": "code",
   "execution_count": 4,
   "metadata": {},
   "outputs": [],
   "source": [
    "toxo_rxns = list()\n",
    "for model in toxo_model.values():\n",
    "    toxo_rxns.extend([r.id for r in model.reactions ])\n",
    "toxo_rxns = set(toxo_rxns)\n",
    "\n",
    "plasmo_rxns = list()\n",
    "for model in plasmo_model.values():\n",
    "    plasmo_rxns.extend([r.id for r in model.reactions ])\n",
    "plasmo_rxns = set(plasmo_rxns)\n",
    "\n",
    "crypto_rxns = list()\n",
    "for model in crypto_model.values():\n",
    "    crypto_rxns.extend([r.id for r in model.reactions ])\n",
    "crypto_rxns = set(crypto_rxns)\n"
   ]
  },
  {
   "cell_type": "code",
   "execution_count": 5,
   "metadata": {},
   "outputs": [],
   "source": [
    "toxo_scores = dict()\n",
    "plasmo_scores = dict()\n",
    "crypto_scores = dict()\n",
    "for species, model in toxo_model.items():\n",
    "    toxo_scores[species] = len(model.reactions)/len(toxo_rxns)\n",
    "for species, model in plasmo_model.items():\n",
    "    plasmo_scores[species] = len(model.reactions)/len(plasmo_rxns)\n",
    "for species, model in crypto_model.items():\n",
    "    crypto_scores[species] = len(model.reactions)/len(crypto_rxns)\n",
    "toxo_df = pd.DataFrame.from_dict(toxo_scores, orient='index')\n",
    "plasmo_df = pd.DataFrame.from_dict(plasmo_scores, orient='index')\n",
    "crypto_df = pd.DataFrame.from_dict(crypto_scores, orient='index')  "
   ]
  },
  {
   "cell_type": "code",
   "execution_count": 6,
   "metadata": {},
   "outputs": [
    {
     "data": {
      "image/png": "[encoded data removed]",
      "text/plain": [
       "<Figure size 432x288 with 1 Axes>"
      ]
     },
     "metadata": {
      "needs_background": "light"
     },
     "output_type": "display_data"
    }
   ],
   "source": [
    "crypto_df.rename(columns = {0:'score'}, inplace = True)\n",
    "maxval = 1.2*crypto_df['score'].max()\n",
    "minval = 0.8*crypto_df['score'].min()\n",
    "\n",
    "fig,ax = plt.subplots()\n",
    "plt.hist(crypto_df['score'], bins = 100)\n",
    "plt.xlim(minval, maxval) \n",
    "yint = []\n",
    "locs, labels = plt.yticks()\n",
    "for each in locs:\n",
    "    yint.append(int(each))\n",
    "plt.yticks(yint)\n",
    "plt.title('Cryptosporidium reconstructions')\n",
    "plt.ylabel('completeness score')\n",
    "plt.subplots_adjust(right = 0.8)\n",
    "plt.show() \n",
    "\n",
    "fig.savefig(\"/home/mac9jc/paradigm/data/results/figures_for_reviewers/crypto_completeness.svg\")\n",
    "fig.savefig(\"/home/mac9jc/paradigm/data/results/figures_for_reviewers/crypto_completeness.png\")"
   ]
  },
  {
   "cell_type": "code",
   "execution_count": 7,
   "metadata": {},
   "outputs": [
    {
     "data": {
      "image/png": "[encoded data removed]",
      "text/plain": [
       "<Figure size 432x288 with 1 Axes>"
      ]
     },
     "metadata": {
      "needs_background": "light"
     },
     "output_type": "display_data"
    }
   ],
   "source": [
    "plasmo_df.rename(columns = {0:'score'}, inplace = True)\n",
    "maxval = 1.2*plasmo_df['score'].max()\n",
    "minval = 0.8*plasmo_df['score'].min()\n",
    "\n",
    "fig,ax = plt.subplots()\n",
    "plt.hist(plasmo_df['score'], bins = 100)\n",
    "plt.xlim(minval, maxval) \n",
    "yint = []\n",
    "locs, labels = plt.yticks()\n",
    "for each in locs:\n",
    "    yint.append(int(each))\n",
    "plt.yticks(yint)\n",
    "plt.title('Plasmodium reconstructions')\n",
    "plt.subplots_adjust(right = 0.8)\n",
    "plt.show() \n",
    "\n",
    "\n",
    "fig.savefig(\"/home/mac9jc/paradigm/data/results/figures_for_reviewers/plasmo_completeness.svg\")\n",
    "fig.savefig(\"/home/mac9jc/paradigm/data/results/figures_for_reviewers/plasmo_completeness.png\")"
   ]
  },
  {
   "cell_type": "code",
   "execution_count": 8,
   "metadata": {},
   "outputs": [
    {
     "data": {
      "image/png": "[encoded data removed]",
      "text/plain": [
       "<Figure size 432x288 with 1 Axes>"
      ]
     },
     "metadata": {
      "needs_background": "light"
     },
     "output_type": "display_data"
    }
   ],
   "source": [
    "toxo_df.rename(columns = {0:'score'}, inplace = True)\n",
    "maxval = 1.2*toxo_df['score'].max()\n",
    "minval = 0.8*toxo_df['score'].min()\n",
    "\n",
    "fig,ax = plt.subplots()\n",
    "plt.hist(toxo_df['score'], bins = 100)\n",
    "plt.xlim(minval, maxval) \n",
    "yint = []\n",
    "locs, labels = plt.yticks()\n",
    "for each in locs:\n",
    "    yint.append(int(each))\n",
    "plt.yticks(yint)\n",
    "plt.title('Toxoplasma reconstructions')\n",
    "plt.subplots_adjust(right = 0.8)\n",
    "plt.show() \n",
    "\n",
    "fig.savefig(\"/home/mac9jc/paradigm/data/results/figures_for_reviewers/toxo_completeness.svg\")\n",
    "fig.savefig(\"/home/mac9jc/paradigm/data/results/figures_for_reviewers/toxo_completeness.png\")"
   ]
  },
  {
   "cell_type": "code",
   "execution_count": 9,
   "metadata": {},
   "outputs": [],
   "source": [
    "toxo_df.append(plasmo_df).append(crypto_df).to_csv(\"/home/mac9jc/paradigm/data/results/completeness_scores.csv\")"
   ]
  },
  {
   "cell_type": "code",
   "execution_count": null,
   "metadata": {},
   "outputs": [],
   "source": []
  }
 ],
 "metadata": {
  "kernelspec": {
   "display_name": "Python [conda env:.conda-paradigm_env]",
   "language": "python",
   "name": "conda-env-.conda-paradigm_env-py"
  },
  "language_info": {
   "codemirror_mode": {
    "name": "ipython",
    "version": 3
   },
   "file_extension": ".py",
   "mimetype": "text/x-python",
   "name": "python",
   "nbconvert_exporter": "python",
   "pygments_lexer": "ipython3",
   "version": "3.6.9"
  }
 },
 "nbformat": 4,
 "nbformat_minor": 4
}
