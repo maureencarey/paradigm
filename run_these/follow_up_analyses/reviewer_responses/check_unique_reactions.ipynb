{
 "cells": [
  {
   "cell_type": "code",
   "execution_count": 1,
   "metadata": {},
   "outputs": [],
   "source": [
    "import cobra\n",
    "import os\n",
    "import pandas\n",
    "import glob\n",
    "\n",
    "# Matplotlib defaults\n",
    "import matplotlib.pyplot as plt\n",
    "import matplotlib\n",
    "import matplotlib.ticker as mticker\n",
    "matplotlib.rcParams[\"savefig.dpi\"] = 300\n",
    "matplotlib.rcParams['figure.dpi'] = 300\n",
    "#Rivanna fonts should include sans-serif now, but this could still raise an error\n",
    "matplotlib.rcParams['font.sans-serif'] = \"Arial\"\n",
    "matplotlib.rcParams['font.family'] = \"sans-serif\"\n",
    "\n",
    "SMALLER_SIZE = 8\n",
    "SMALL_SIZE = 14\n",
    "MEDIUM_SIZE = 16\n",
    "BIGGER_SIZE = 16\n",
    "\n",
    "matplotlib.rc('font', size=SMALL_SIZE)          # controls default text sizes\n",
    "matplotlib.rc('axes', titlesize=MEDIUM_SIZE)     # fontsize of the axes title\n",
    "matplotlib.rc('axes', labelsize=SMALL_SIZE)    # fontsize of the x and y labels\n",
    "matplotlib.rc('xtick', labelsize=SMALL_SIZE)    # fontsize of the tick labels\n",
    "matplotlib.rc('ytick', labelsize=SMALL_SIZE)    # fontsize of the tick labels\n",
    "matplotlib.rc('legend', fontsize=SMALLER_SIZE)    # legend fontsize\n",
    "matplotlib.rc('figure', titlesize=BIGGER_SIZE)  # fontsize of the figure title"
   ]
  },
  {
   "cell_type": "code",
   "execution_count": 2,
   "metadata": {},
   "outputs": [],
   "source": [
    "all_Rxns = pandas.read_csv(\"/home/mac9jc/paradigm/data/results/rxn_presence_before_gapfilling_24_03_2021.csv\")\n",
    "all_Rxns.rename(columns = {'Unnamed: 0':'reaction'}, inplace = True)\n"
   ]
  },
  {
   "cell_type": "code",
   "execution_count": 3,
   "metadata": {},
   "outputs": [],
   "source": [
    "unique_rxns = all_Rxns[all_Rxns.sum(axis=1) ==1]"
   ]
  },
  {
   "cell_type": "code",
   "execution_count": 4,
   "metadata": {},
   "outputs": [],
   "source": [
    "model_dict = dict()\n",
    "path = \"/home/mac9jc/paradigm/models/\"\n",
    "os.chdir(path)\n",
    "for filename in glob.glob(os.path.join(path, 'gf_*.xml')):\n",
    "    key = filename.split('/')[len(filename.split('/'))-1]\n",
    "    key = key[:-4]\n",
    "    key = key[3:]\n",
    "    model_dict[key] = cobra.io.read_sbml_model(filename)\n",
    "    "
   ]
  },
  {
   "cell_type": "code",
   "execution_count": 5,
   "metadata": {},
   "outputs": [],
   "source": [
    "percent_both = dict()\n",
    "percent_blocked = dict()\n",
    "percent_unconnected_upstream = dict()\n",
    "overall_unique_reactions = dict()\n",
    "n_overall_unique_reactions = dict()\n",
    "blocked = dict()\n",
    "unconnected_upstream = dict()\n",
    "both = dict()\n",
    "\n",
    "for species, model in model_dict.items():\n",
    "    blocked_down_rxns = list()\n",
    "    blocked_up_rxns = list()\n",
    "    both_rxns = list()\n",
    "    model_reactions = [r.id for r in model.reactions]\n",
    "    unique_reactions = list(set(unique_rxns[['reaction']]['reaction']).intersection(set(model_reactions)))\n",
    "    overall_unique_reactions[species] = unique_reactions\n",
    "    n_overall_unique_reactions[species] = len(unique_reactions)\n",
    "    for x in unique_reactions:\n",
    "        rxn = model.reactions.get_by_id(x)\n",
    "        rxn_products = rxn.products\n",
    "        rxn_reactants = rxn.reactants\n",
    "        temp_dict = dict()\n",
    "        for met in rxn_products:\n",
    "            temp_dict[met] = [r.id for r in met.reactions if met in r.reactants]\n",
    "        if len([met.id for met in temp_dict.keys() if len(temp_dict[met])<1])>1:\n",
    "            blocked_down_rxns.append(x)\n",
    "        temp_dict = dict()\n",
    "        for met in rxn_reactants:\n",
    "            temp_dict[met] = [r.id for r in met.reactions if met in r.products]\n",
    "        if len([met.id for met in temp_dict.keys() if len(temp_dict[met])<1])>1:\n",
    "            blocked_up_rxns.append(x)\n",
    "        if x in blocked_up_rxns and x in blocked_down_rxns:\n",
    "            both_rxns.append(x)\n",
    "        \n",
    "        #if x in both_rxns or x in blocked_up_rxns or x in blocked_down_rxns: print({species: x})\n",
    "        \n",
    "    blocked[species] = blocked_down_rxns\n",
    "    unconnected_upstream[species] = blocked_up_rxns\n",
    "    both[species] = both_rxns\n",
    "    \n",
    "    if n_overall_unique_reactions[species] >0:\n",
    "        percent_both[species] = 100*len(both_rxns)/n_overall_unique_reactions[species]\n",
    "        percent_blocked[species] = 100*len(blocked_down_rxns)/n_overall_unique_reactions[species]\n",
    "        percent_unconnected_upstream[species] = 100*len(blocked_up_rxns)/n_overall_unique_reactions[species]\n",
    "    else:\n",
    "        percent_both[species] = 0\n",
    "        percent_blocked[species] = 0\n",
    "        percent_unconnected_upstream[species] = 0"
   ]
  },
  {
   "cell_type": "code",
   "execution_count": 6,
   "metadata": {},
   "outputs": [],
   "source": [
    "n_overall_unique_reactions = pandas.DataFrame.from_dict(n_overall_unique_reactions, orient='index', columns = ['total unique rxns'])\n",
    "percent_blocked = pandas.DataFrame.from_dict(percent_blocked, orient='index', columns = ['blocked'])\n",
    "percent_unconnected_upstream = pandas.DataFrame.from_dict(percent_unconnected_upstream, orient='index', columns = ['unconnected'])\n",
    "percent_both = pandas.DataFrame.from_dict(percent_both, orient='index', columns = ['both'])\n",
    "\n",
    "df = n_overall_unique_reactions.copy()\n",
    "df = df.merge(percent_blocked, left_index = True, right_index = True)\n",
    "df = df.merge(percent_unconnected_upstream, left_index = True, right_index = True)\n",
    "df = df.merge(percent_both, left_index = True, right_index = True)"
   ]
  },
  {
   "cell_type": "code",
   "execution_count": 7,
   "metadata": {},
   "outputs": [
    {
     "data": {
      "image/png": "[encoded data removed]",
      "text/plain": [
       "<Figure size 216x432 with 1 Axes>"
      ]
     },
     "metadata": {
      "needs_background": "light"
     },
     "output_type": "display_data"
    }
   ],
   "source": [
    "\n",
    "fig,ax = plt.subplots(figsize = (3, 6))\n",
    "bplot = ax.boxplot([n_overall_unique_reactions['total unique rxns'].tolist()],\n",
    "                   patch_artist=True,\n",
    "                   medianprops = dict(color=\"black\",linewidth=1.5), labels = ['']) \n",
    "ax.yaxis.grid(True, linestyle='-', which='major', color='lightgrey',alpha=0.5)\n",
    "colors = [\"white\"]\n",
    "for patch, color in zip(bplot['boxes'], colors):\n",
    "    patch.set_facecolor(color)\n",
    "    patch.set_edgecolor(\"black\")\n",
    "plt.subplots_adjust(bottom = 0.35)\n",
    "ax.set_ylabel('Number of reactions')\n",
    "plt.tick_params(\n",
    "    axis='x',          # changes apply to the x-axis\n",
    "    which='both',      # both major and minor ticks are affected\n",
    "    bottom=False,      # ticks along the bottom edge are off\n",
    "    top=False,         # ticks along the top edge are off\n",
    "    labelbottom=False) # labels along the bottom edge are off\n",
    "plt.show()\n",
    "\n",
    "fig.savefig(\"/home/mac9jc/paradigm/data/results/figures_for_reviewers/unique_reactions_total.svg\")\n",
    "fig.savefig(\"/home/mac9jc/paradigm/data/results/figures_for_reviewers/unique_reactions_total.png\")"
   ]
  },
  {
   "cell_type": "code",
   "execution_count": 8,
   "metadata": {},
   "outputs": [
    {
     "data": {
      "image/png": "[encoded data removed]",
      "text/plain": [
       "<Figure size 432x288 with 1 Axes>"
      ]
     },
     "metadata": {
      "needs_background": "light"
     },
     "output_type": "display_data"
    }
   ],
   "source": [
    "\n",
    "fig,ax = plt.subplots()\n",
    "x = ['blocked','unconnected', 'blocked\\n& unconnected']\n",
    "bplot = ax.boxplot([percent_blocked['blocked'].tolist(), percent_unconnected_upstream['unconnected'].tolist(), percent_both['both'].tolist()],\n",
    "                   patch_artist=True,\n",
    "                   medianprops = dict(color=\"black\",linewidth=1.5), labels = x) \n",
    "ax.yaxis.grid(True, linestyle='-', which='major', color='lightgrey',alpha=0.5)\n",
    "colors = [\"white\",\"white\",\"white\",\"white\",\"white\"]\n",
    "for patch, color in zip(bplot['boxes'], colors):\n",
    "    patch.set_facecolor(color)\n",
    "    patch.set_edgecolor(\"black\")\n",
    "plt.subplots_adjust(bottom = 0.35)\n",
    "ax.set_ylabel('Percent of reactions')\n",
    "plt.show()\n",
    "\n",
    "fig.savefig(\"/home/mac9jc/paradigm/data/results/figures_for_reviewers/unique_reactions.svg\")\n",
    "fig.savefig(\"/home/mac9jc/paradigm/data/results/figures_for_reviewers/unique_reactions.png\")\n"
   ]
  },
  {
   "cell_type": "code",
   "execution_count": 9,
   "metadata": {},
   "outputs": [
    {
     "data": {
      "text/html": [
       "<div>\n",
       "<style scoped>\n",
       "    .dataframe tbody tr th:only-of-type {\n",
       "        vertical-align: middle;\n",
       "    }\n",
       "\n",
       "    .dataframe tbody tr th {\n",
       "        vertical-align: top;\n",
       "    }\n",
       "\n",
       "    .dataframe thead th {\n",
       "        text-align: right;\n",
       "    }\n",
       "</style>\n",
       "<table border=\"1\" class=\"dataframe\">\n",
       "  <thead>\n",
       "    <tr style=\"text-align: right;\">\n",
       "      <th></th>\n",
       "      <th>blocked</th>\n",
       "      <th>unconnected</th>\n",
       "      <th>both</th>\n",
       "      <th>connected</th>\n",
       "    </tr>\n",
       "  </thead>\n",
       "  <tbody>\n",
       "    <tr>\n",
       "      <th>no_ortho_EcuniculiEC3</th>\n",
       "      <td>0.0</td>\n",
       "      <td>0.0</td>\n",
       "      <td>0.0</td>\n",
       "      <td>5.0</td>\n",
       "    </tr>\n",
       "    <tr>\n",
       "      <th>no_ortho_TevansiSTIB805</th>\n",
       "      <td>0.0</td>\n",
       "      <td>0.0</td>\n",
       "      <td>0.0</td>\n",
       "      <td>1.0</td>\n",
       "    </tr>\n",
       "    <tr>\n",
       "      <th>PfalciparumTG01</th>\n",
       "      <td>0.0</td>\n",
       "      <td>0.0</td>\n",
       "      <td>0.0</td>\n",
       "      <td>5.0</td>\n",
       "    </tr>\n",
       "    <tr>\n",
       "      <th>no_ortho_TgondiiARI</th>\n",
       "      <td>0.0</td>\n",
       "      <td>0.0</td>\n",
       "      <td>0.0</td>\n",
       "      <td>3.0</td>\n",
       "    </tr>\n",
       "    <tr>\n",
       "      <th>no_ortho_TcruziCLBrenerNon-Esmeraldo-like</th>\n",
       "      <td>0.0</td>\n",
       "      <td>0.0</td>\n",
       "      <td>0.0</td>\n",
       "      <td>2.0</td>\n",
       "    </tr>\n",
       "  </tbody>\n",
       "</table>\n",
       "</div>"
      ],
      "text/plain": [
       "                                           blocked  unconnected  both  \\\n",
       "no_ortho_EcuniculiEC3                          0.0          0.0   0.0   \n",
       "no_ortho_TevansiSTIB805                        0.0          0.0   0.0   \n",
       "PfalciparumTG01                                0.0          0.0   0.0   \n",
       "no_ortho_TgondiiARI                            0.0          0.0   0.0   \n",
       "no_ortho_TcruziCLBrenerNon-Esmeraldo-like      0.0          0.0   0.0   \n",
       "\n",
       "                                           connected  \n",
       "no_ortho_EcuniculiEC3                            5.0  \n",
       "no_ortho_TevansiSTIB805                          1.0  \n",
       "PfalciparumTG01                                  5.0  \n",
       "no_ortho_TgondiiARI                              3.0  \n",
       "no_ortho_TcruziCLBrenerNon-Esmeraldo-like        2.0  "
      ]
     },
     "execution_count": 9,
     "metadata": {},
     "output_type": "execute_result"
    }
   ],
   "source": [
    "df2 = df.copy()\n",
    "df2.rename(columns = {'total unique rxns':'total'}, inplace = True)\n",
    "df2['blocked_num'] = df2['total'] * df2['blocked']/100\n",
    "df2['unconnected_num'] = df2['total'] * df2['unconnected']/100\n",
    "df2['both_num'] = df2['total'] * df2['both']/100\n",
    "del df2['blocked']\n",
    "del df2['unconnected']\n",
    "del df2['both']\n",
    "df2.rename(columns = {'blocked_num':'blocked','unconnected_num':'unconnected','both_num':'both'}, inplace = True)\n",
    "df2['connected'] = df2.apply(lambda row: row.total - (row.blocked + row.unconnected + row.both), axis=1)\n",
    "del df2['total']\n",
    "df2.head()"
   ]
  },
  {
   "cell_type": "code",
   "execution_count": 10,
   "metadata": {},
   "outputs": [
    {
     "data": {
      "image/png": "[encoded data removed]",
      "text/plain": [
       "<Figure size 432x288 with 1 Axes>"
      ]
     },
     "metadata": {
      "needs_background": "light"
     },
     "output_type": "display_data"
    }
   ],
   "source": [
    "labels = df2.index\n",
    "first = df2[['connected']]['connected']\n",
    "second = df2[['blocked']]['blocked']\n",
    "third = df2[['unconnected']]['unconnected']\n",
    "width = 0.35       # the width of the bars: can also be len(x) sequence\n",
    "\n",
    "fig, ax = plt.subplots()\n",
    "ax.bar(labels, first, width, label='connected')\n",
    "ax.bar(labels, second, width, bottom=first, label='blocked')\n",
    "ax.bar(labels, third, width, bottom=second, label='unconnected')\n",
    "\n",
    "ax.set_ylabel('Number of reactions')\n",
    "ax.legend()\n",
    "ax.axes.get_xaxis().set_visible(False)\n",
    "plt.yscale(\"log\")\n",
    "plt.show()\n",
    "\n",
    "fig.savefig(\"/home/mac9jc/paradigm/data/results/figures_for_reviewers/unique_reactions_connectivity.svg\")\n",
    "fig.savefig(\"/home/mac9jc/paradigm/data/results/figures_for_reviewers/unique_reactions_connectivity.png\")"
   ]
  },
  {
   "cell_type": "code",
   "execution_count": 11,
   "metadata": {},
   "outputs": [
    {
     "data": {
      "image/png": "[encoded data removed]",
      "text/plain": [
       "<Figure size 432x288 with 3 Axes>"
      ]
     },
     "metadata": {
      "needs_background": "light"
     },
     "output_type": "display_data"
    }
   ],
   "source": [
    "\n",
    "#fig, axs = plt.subplots(3, sharex=True, sharey=False, gridspec_kw={'hspace': 0})\n",
    "\n",
    "# axs[0].bar(labels, first, width, label='connected')\n",
    "# axs[1].bar(labels, second, width, bottom=first, label='blocked')\n",
    "# axs[2].bar(labels, third, width, bottom=second, label='unconnected')\n",
    "    \n",
    "# axs[0].axes.get_xaxis().set_visible(False)\n",
    "# axs[1].axes.get_xaxis().set_visible(False)\n",
    "# axs[2].axes.get_xaxis().set_visible(False)\n",
    "\n",
    "# plt.show()\n",
    "\n",
    "fig, (ax1, ax2, ax3) = plt.subplots(3)\n",
    "ax1.bar(labels, first, width, label='connected', color = \"black\")\n",
    "ax1.axes.get_xaxis().set_visible(False)\n",
    "ax1.set_title('connected unique reactions')\n",
    "ax1.axes.get_xaxis().set_visible(False)\n",
    "ax2.bar(labels, second, width, label='blocked', color = \"red\")\n",
    "ax2.axes.get_xaxis().set_visible(False)\n",
    "ax2.set_title('blocked unique reactions')\n",
    "ax2.axes.get_xaxis().set_visible(False)\n",
    "ax2.yaxis.set_major_locator(matplotlib.ticker.MaxNLocator(integer=True))\n",
    "ax3.bar(labels, third, width, label='unconnected', color = \"blue\")\n",
    "ax3.axes.get_xaxis().set_visible(False)\n",
    "ax3.set_title('unconnected unique reactions')\n",
    "ax3.axes.get_xaxis().set_visible(False)\n",
    "plt.subplots_adjust(wspace=.1, hspace=.4)\n",
    "\n",
    "fig.savefig(\"/home/mac9jc/paradigm/data/results/figures_for_reviewers/unique_reactions_connectivity.svg\")\n",
    "fig.savefig(\"/home/mac9jc/paradigm/data/results/figures_for_reviewers/unique_reactions_connectivity.png\")"
   ]
  }
 ],
 "metadata": {
  "kernelspec": {
   "display_name": "Python [conda env:.conda-paradigm_env]",
   "language": "python",
   "name": "conda-env-.conda-paradigm_env-py"
  },
  "language_info": {
   "codemirror_mode": {
    "name": "ipython",
    "version": 3
   },
   "file_extension": ".py",
   "mimetype": "text/x-python",
   "name": "python",
   "nbconvert_exporter": "python",
   "pygments_lexer": "ipython3",
   "version": "3.6.9"
  }
 },
 "nbformat": 4,
 "nbformat_minor": 4
}
