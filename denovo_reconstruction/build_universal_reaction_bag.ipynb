{
 "cells": [
  {
   "cell_type": "code",
   "execution_count": null,
   "metadata": {},
   "outputs": [],
   "source": [
    "import cobra\n",
    "import pandas as pd\n",
    "import numpy as np\n",
    "import os\n",
    "import subprocess\n",
    "import glob\n",
    "from cobra import Model, Reaction, Metabolite"
   ]
  },
  {
   "cell_type": "code",
   "execution_count": null,
   "metadata": {},
   "outputs": [],
   "source": [
    "# universal = cobra.io.load_json_model('/Users/maureencarey/local_documents/work/comparative_parasite_models/data/models/universal_model_may2018.json')\n",
    "\n",
    "# for rxn in pf_curated.reactions:\n",
    "#     if rxn not in universal.reactions:\n",
    "#         rxn_to_add = rxn.copy()\n",
    "#         if rxn_to_add.gene_reaction_rule is not '':\n",
    "#             rxn_to_add.gene_reaction_rule = ''\n",
    "#         universal.add_reactions([rxn_to_add])\n",
    "#         for met in rxn_to_add.metabolites:\n",
    "#             if met not in universal.metabolites:\n",
    "#                 print(met.id)"
   ]
  },
  {
   "cell_type": "code",
   "execution_count": null,
   "metadata": {},
   "outputs": [],
   "source": [
    "# SBML VERSION DOES NOT HELP THE SITUATIOn\n",
    "\n",
    "# os.chdir(\"/Users/maureencarey/local_documents/work/comparative_parasite_models/code/data/genomes_from_EuPathDB/version37/\")\n",
    "# # carve Chominis30976_May2018.fasta --fbc2 --output Chominis30976_May2018_fbc2.xml\n",
    "\n",
    "# ch_fbc2 = cobra.io.read_sbml_model(\"Chominis30976_May2018_fbc2.xml\")\n",
    "# ch_cobra = cobra.io.read_sbml_model(\"Chominis30976_May2018_cobra.xml\")\n",
    "# ch_cobra.solver = 'gurobi'\n",
    "# deepcopy(ch_cobra.solver)\n",
    "# ch_fbc2.solver = 'gurobi'\n",
    "# deepcopy(ch_fbc2.solver)"
   ]
  },
  {
   "cell_type": "code",
   "execution_count": null,
   "metadata": {},
   "outputs": [],
   "source": []
  },
  {
   "cell_type": "code",
   "execution_count": null,
   "metadata": {},
   "outputs": [],
   "source": []
  },
  {
   "cell_type": "code",
   "execution_count": null,
   "metadata": {},
   "outputs": [],
   "source": []
  },
  {
   "cell_type": "code",
   "execution_count": null,
   "metadata": {},
   "outputs": [],
   "source": []
  }
 ],
 "metadata": {
  "kernelspec": {
   "display_name": "Python 3",
   "language": "python",
   "name": "python3"
  },
  "language_info": {
   "codemirror_mode": {
    "name": "ipython",
    "version": 3
   },
   "file_extension": ".py",
   "mimetype": "text/x-python",
   "name": "python",
   "nbconvert_exporter": "python",
   "pygments_lexer": "ipython3",
   "version": "3.6.4"
  }
 },
 "nbformat": 4,
 "nbformat_minor": 2
}
