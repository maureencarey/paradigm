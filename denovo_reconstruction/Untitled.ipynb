{
 "cells": [
  {
   "cell_type": "markdown",
   "metadata": {},
   "source": [
    "import cobra\n",
    "import pandas as pd\n",
    "import numpy as np\n",
    "import os\n",
    "import glob\n",
    "from cobra import Model, Reaction, Metabolite\n",
    "import subprocess\n",
    "print (cobra.__version__) # Use Devel branch\n",
    "\n",
    "path1 = \"/Users/maureencarey/local_documents/work/comparative_parasite_models/paradigm\"\n",
    "path2 = \"/Users/maureencarey/Downloads/models\"\n"
   ]
  },
  {
   "cell_type": "code",
   "execution_count": null,
   "metadata": {},
   "outputs": [],
   "source": [
    "\n",
    "os.chdir(path2)\n",
    "universal_model = cobra.io.read_sbml_model('universal_model_may2018.json')"
   ]
  }
 ],
 "metadata": {
  "kernelspec": {
   "display_name": "Python 3",
   "language": "python",
   "name": "python3"
  },
  "language_info": {
   "codemirror_mode": {
    "name": "ipython",
    "version": 3
   },
   "file_extension": ".py",
   "mimetype": "text/x-python",
   "name": "python",
   "nbconvert_exporter": "python",
   "pygments_lexer": "ipython3",
   "version": "3.6.4"
  }
 },
 "nbformat": 4,
 "nbformat_minor": 2
}
